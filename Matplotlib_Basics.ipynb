{
  "nbformat": 4,
  "nbformat_minor": 0,
  "metadata": {
    "colab": {
      "name": "Matplotlib Basics.ipynb",
      "provenance": [],
      "collapsed_sections": [],
      "authorship_tag": "ABX9TyO/BthMBL8UwStRORg7x20T",
      "include_colab_link": true
    },
    "kernelspec": {
      "name": "python3",
      "display_name": "Python 3"
    }
  },
  "cells": [
    {
      "cell_type": "markdown",
      "metadata": {
        "id": "view-in-github",
        "colab_type": "text"
      },
      "source": [
        "<a href=\"https://colab.research.google.com/github/DeanPhillipsOKC/data-visualization/blob/master/Matplotlib_Basics.ipynb\" target=\"_parent\"><img src=\"https://colab.research.google.com/assets/colab-badge.svg\" alt=\"Open In Colab\"/></a>"
      ]
    },
    {
      "cell_type": "code",
      "metadata": {
        "id": "2h5AYw92CDAY",
        "colab_type": "code",
        "colab": {}
      },
      "source": [
        "import numpy as np\n",
        "import pandas as pd"
      ],
      "execution_count": 0,
      "outputs": []
    },
    {
      "cell_type": "markdown",
      "metadata": {
        "id": "P9fYqRW1CGyx",
        "colab_type": "text"
      },
      "source": [
        "# Matplotlib basics"
      ]
    },
    {
      "cell_type": "markdown",
      "metadata": {
        "id": "ZoZHo8oMENAF",
        "colab_type": "text"
      },
      "source": [
        "## Standard method of importing, and naming"
      ]
    },
    {
      "cell_type": "code",
      "metadata": {
        "id": "5i63--ZGCIg2",
        "colab_type": "code",
        "colab": {}
      },
      "source": [
        "import matplotlib.pyplot as plt"
      ],
      "execution_count": 0,
      "outputs": []
    },
    {
      "cell_type": "markdown",
      "metadata": {
        "id": "9rr799uuERjV",
        "colab_type": "text"
      },
      "source": [
        "## Basic 2d line plot"
      ]
    },
    {
      "cell_type": "code",
      "metadata": {
        "id": "EgYHQFpSCwTW",
        "colab_type": "code",
        "colab": {}
      },
      "source": [
        "x = [0, 1, 2]\n",
        "y = [100, 200, 300]"
      ],
      "execution_count": 0,
      "outputs": []
    },
    {
      "cell_type": "code",
      "metadata": {
        "id": "pfE3rqvYEWQH",
        "colab_type": "code",
        "colab": {
          "base_uri": "https://localhost:8080/",
          "height": 282
        },
        "outputId": "90283625-cc85-4d15-dc9b-166f74fb510f"
      },
      "source": [
        "plt.plot(x, y)"
      ],
      "execution_count": 8,
      "outputs": [
        {
          "output_type": "execute_result",
          "data": {
            "text/plain": [
              "[<matplotlib.lines.Line2D at 0x7f107b0034e0>]"
            ]
          },
          "metadata": {
            "tags": []
          },
          "execution_count": 8
        },
        {
          "output_type": "display_data",
          "data": {
            "image/png": "[encoded data removed]",
            "text/plain": [
              "<Figure size 432x288 with 1 Axes>"
            ]
          },
          "metadata": {
            "tags": []
          }
        }
      ]
    },
    {
      "cell_type": "markdown",
      "metadata": {
        "id": "_hOkK036HSof",
        "colab_type": "text"
      },
      "source": [
        "### Add Labels"
      ]
    },
    {
      "cell_type": "code",
      "metadata": {
        "id": "0sOIniDKHWTP",
        "colab_type": "code",
        "colab": {
          "base_uri": "https://localhost:8080/",
          "height": 312
        },
        "outputId": "9da0ebf9-5bdf-4c84-cbe2-a3d8176eaec1"
      },
      "source": [
        "plt.plot(x, y)\n",
        "plt.title(\"Sample Title\")\n",
        "plt.xlabel(\"X Label\")\n",
        "plt.ylabel(\"Y Label\")"
      ],
      "execution_count": 13,
      "outputs": [
        {
          "output_type": "execute_result",
          "data": {
            "text/plain": [
              "Text(0, 0.5, 'Y Label')"
            ]
          },
          "metadata": {
            "tags": []
          },
          "execution_count": 13
        },
        {
          "output_type": "display_data",
          "data": {
            "image/png": "[encoded data removed]",
            "text/plain": [
              "<Figure size 432x288 with 1 Axes>"
            ]
          },
          "metadata": {
            "tags": []
          }
        }
      ]
    },
    {
      "cell_type": "markdown",
      "metadata": {
        "id": "pLfeq1g-Hu_L",
        "colab_type": "text"
      },
      "source": [
        "### Add Limits"
      ]
    },
    {
      "cell_type": "code",
      "metadata": {
        "id": "xeG_OVUUHwzv",
        "colab_type": "code",
        "colab": {
          "base_uri": "https://localhost:8080/",
          "height": 312
        },
        "outputId": "c3dea436-b969-42fc-c106-536b6670f29a"
      },
      "source": [
        "plt.plot(x, y)\n",
        "\n",
        "plt.xlim(0, 2) # this limits the x axis values so that we don't have that whitespace\n",
        "plt.ylim(100, 300) # Same as above, but for the y axis\n",
        "\n",
        "plt.title(\"Sample Title\")\n",
        "plt.xlabel(\"X Label\")\n",
        "plt.ylabel(\"Y Label\")"
      ],
      "execution_count": 17,
      "outputs": [
        {
          "output_type": "execute_result",
          "data": {
            "text/plain": [
              "Text(0, 0.5, 'Y Label')"
            ]
          },
          "metadata": {
            "tags": []
          },
          "execution_count": 17
        },
        {
          "output_type": "display_data",
          "data": {
            "image/png": "[encoded data removed]",
            "text/plain": [
              "<Figure size 432x288 with 1 Axes>"
            ]
          },
          "metadata": {
            "tags": []
          }
        }
      ]
    },
    {
      "cell_type": "markdown",
      "metadata": {
        "id": "nfkqEKoIKKad",
        "colab_type": "text"
      },
      "source": [
        "### Add Colors\n",
        "Not terribly important since Seaborn is usually used for stuff like this.  If you want a more specific color you can use a hex value like '#aabbcc'"
      ]
    },
    {
      "cell_type": "code",
      "metadata": {
        "id": "4i3Mah6jKQjP",
        "colab_type": "code",
        "colab": {
          "base_uri": "https://localhost:8080/",
          "height": 312
        },
        "outputId": "866cd8b3-701b-493a-a665-d2095d42e36c"
      },
      "source": [
        "plt.plot(x, y, color='red')\n",
        "\n",
        "plt.xlim(0, 2) # this limits the x axis values so that we don't have that whitespace\n",
        "plt.ylim(100, 300) # Same as above, but for the y axis\n",
        "\n",
        "plt.title(\"Sample Title\")\n",
        "plt.xlabel(\"X Label\")\n",
        "plt.ylabel(\"Y Label\")"
      ],
      "execution_count": 19,
      "outputs": [
        {
          "output_type": "execute_result",
          "data": {
            "text/plain": [
              "Text(0, 0.5, 'Y Label')"
            ]
          },
          "metadata": {
            "tags": []
          },
          "execution_count": 19
        },
        {
          "output_type": "display_data",
          "data": {
            "image/png": "[encoded data removed]",
            "text/plain": [
              "<Figure size 432x288 with 1 Axes>"
            ]
          },
          "metadata": {
            "tags": []
          }
        }
      ]
    },
    {
      "cell_type": "markdown",
      "metadata": {
        "id": "OvEYuwkhKx-8",
        "colab_type": "text"
      },
      "source": [
        "### Adding markers"
      ]
    },
    {
      "cell_type": "code",
      "metadata": {
        "id": "0HU-q-FWK0S0",
        "colab_type": "code",
        "colab": {
          "base_uri": "https://localhost:8080/",
          "height": 312
        },
        "outputId": "9244f286-c7c8-4d03-b47f-d979933d769a"
      },
      "source": [
        "plt.plot(x, y, color='red', marker='o', markersize=15, linestyle='--') # one available marker option.  it puts a dot on the points\n",
        "# we also added an optional markersize value of 15 to make them ridiculously large\n",
        "# Also added linestyle to show dashes instead of a solid line (also optional)\n",
        "\n",
        "plt.xlim(-1, 3) \n",
        "plt.ylim(0, 400) \n",
        "plt.title(\"Sample Title\")\n",
        "plt.xlabel(\"X Label\")\n",
        "plt.ylabel(\"Y Label\")"
      ],
      "execution_count": 23,
      "outputs": [
        {
          "output_type": "execute_result",
          "data": {
            "text/plain": [
              "Text(0, 0.5, 'Y Label')"
            ]
          },
          "metadata": {
            "tags": []
          },
          "execution_count": 23
        },
        {
          "output_type": "display_data",
          "data": {
            "image/png": "[encoded data removed]",
            "text/plain": [
              "<Figure size 432x288 with 1 Axes>"
            ]
          },
          "metadata": {
            "tags": []
          }
        }
      ]
    },
    {
      "cell_type": "markdown",
      "metadata": {
        "id": "HAVrqBsOGbFo",
        "colab_type": "text"
      },
      "source": [
        "## Scatterplot"
      ]
    },
    {
      "cell_type": "code",
      "metadata": {
        "id": "3p69RQy0Eal2",
        "colab_type": "code",
        "colab": {}
      },
      "source": [
        "housing = pd.DataFrame({'rooms': [1, 1, 2, 2, 2, 3, 3, 3],\n",
        "                      'price': [100, 120, 190, 200, 230, 310, 330, 305]})"
      ],
      "execution_count": 0,
      "outputs": []
    },
    {
      "cell_type": "code",
      "metadata": {
        "id": "8BNA4pBzGteO",
        "colab_type": "code",
        "colab": {
          "base_uri": "https://localhost:8080/",
          "height": 297
        },
        "outputId": "c992d2db-83a5-467c-8ccd-98893e8abbd9"
      },
      "source": [
        "housing"
      ],
      "execution_count": 11,
      "outputs": [
        {
          "output_type": "execute_result",
          "data": {
            "text/html": [
              "<div>\n",
              "<style scoped>\n",
              "    .dataframe tbody tr th:only-of-type {\n",
              "        vertical-align: middle;\n",
              "    }\n",
              "\n",
              "    .dataframe tbody tr th {\n",
              "        vertical-align: top;\n",
              "    }\n",
              "\n",
              "    .dataframe thead th {\n",
              "        text-align: right;\n",
              "    }\n",
              "</style>\n",
              "<table border=\"1\" class=\"dataframe\">\n",
              "  <thead>\n",
              "    <tr style=\"text-align: right;\">\n",
              "      <th></th>\n",
              "      <th>rooms</th>\n",
              "      <th>price</th>\n",
              "    </tr>\n",
              "  </thead>\n",
              "  <tbody>\n",
              "    <tr>\n",
              "      <th>0</th>\n",
              "      <td>1</td>\n",
              "      <td>100</td>\n",
              "    </tr>\n",
              "    <tr>\n",
              "      <th>1</th>\n",
              "      <td>1</td>\n",
              "      <td>120</td>\n",
              "    </tr>\n",
              "    <tr>\n",
              "      <th>2</th>\n",
              "      <td>2</td>\n",
              "      <td>190</td>\n",
              "    </tr>\n",
              "    <tr>\n",
              "      <th>3</th>\n",
              "      <td>2</td>\n",
              "      <td>200</td>\n",
              "    </tr>\n",
              "    <tr>\n",
              "      <th>4</th>\n",
              "      <td>2</td>\n",
              "      <td>230</td>\n",
              "    </tr>\n",
              "    <tr>\n",
              "      <th>5</th>\n",
              "      <td>3</td>\n",
              "      <td>310</td>\n",
              "    </tr>\n",
              "    <tr>\n",
              "      <th>6</th>\n",
              "      <td>3</td>\n",
              "      <td>330</td>\n",
              "    </tr>\n",
              "    <tr>\n",
              "      <th>7</th>\n",
              "      <td>3</td>\n",
              "      <td>305</td>\n",
              "    </tr>\n",
              "  </tbody>\n",
              "</table>\n",
              "</div>"
            ],
            "text/plain": [
              "   rooms  price\n",
              "0      1    100\n",
              "1      1    120\n",
              "2      2    190\n",
              "3      2    200\n",
              "4      2    230\n",
              "5      3    310\n",
              "6      3    330\n",
              "7      3    305"
            ]
          },
          "metadata": {
            "tags": []
          },
          "execution_count": 11
        }
      ]
    },
    {
      "cell_type": "code",
      "metadata": {
        "id": "O9IshBaxGwxv",
        "colab_type": "code",
        "colab": {
          "base_uri": "https://localhost:8080/",
          "height": 282
        },
        "outputId": "bc1c0c8c-4a2c-422c-8511-1d67d5984546"
      },
      "source": [
        "plt.scatter(housing['rooms'], housing['price'])"
      ],
      "execution_count": 12,
      "outputs": [
        {
          "output_type": "execute_result",
          "data": {
            "text/plain": [
              "<matplotlib.collections.PathCollection at 0x7f107a3a2cc0>"
            ]
          },
          "metadata": {
            "tags": []
          },
          "execution_count": 12
        },
        {
          "output_type": "display_data",
          "data": {
            "image/png": "[encoded data removed]",
            "text/plain": [
              "<Figure size 432x288 with 1 Axes>"
            ]
          },
          "metadata": {
            "tags": []
          }
        }
      ]
    },
    {
      "cell_type": "code",
      "metadata": {
        "id": "9U0xuZwrG_kA",
        "colab_type": "code",
        "colab": {}
      },
      "source": [
        ""
      ],
      "execution_count": 0,
      "outputs": []
    }
  ]
}